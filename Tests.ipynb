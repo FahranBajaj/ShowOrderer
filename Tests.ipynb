{
 "cells": [
  {
   "cell_type": "code",
   "execution_count": 1,
   "id": "8669ed09-3a5c-4b52-9733-a241872d68c2",
   "metadata": {},
   "outputs": [],
   "source": [
    "from z3 import *"
   ]
  },
  {
   "cell_type": "code",
   "execution_count": 2,
   "id": "cb56a676-4a76-4fa7-a7ab-0466b255e13a",
   "metadata": {},
   "outputs": [
    {
     "name": "stdout",
     "output_type": "stream",
     "text": [
      "[x = 2]\n"
     ]
    }
   ],
   "source": [
    "s = Optimize()\n",
    "x = Int(\"x\")\n",
    "s.add_soft(x == 1, weight = 1)\n",
    "s.add_soft(x == 2, weight = 2)\n",
    "model = s.check()\n",
    "print(s.model())"
   ]
  },
  {
   "cell_type": "code",
   "execution_count": 3,
   "id": "30ca8acf-097d-4673-aa90-ad143a8fac39",
   "metadata": {},
   "outputs": [
    {
     "name": "stdout",
     "output_type": "stream",
     "text": [
      "[y = 30, x = 10]\n"
     ]
    }
   ],
   "source": [
    "s = Optimize()\n",
    "x, y = Ints(\"x y\")\n",
    "s.add(x <= 10)\n",
    "s.add(x >= 0)\n",
    "s.add(y > 20)\n",
    "s.add(y <= 30)\n",
    "s.maximize(y+2*x)\n",
    "s.add_soft(x < 5, weight = 100)\n",
    "model = s.check()\n",
    "print(s.model())"
   ]
  },
  {
   "cell_type": "code",
   "execution_count": 17,
   "id": "0eaeb7e7-2264-4d02-86d7-42a31d0e7691",
   "metadata": {},
   "outputs": [
    {
     "name": "stdout",
     "output_type": "stream",
     "text": [
      "[y = 2, x = 0]\n"
     ]
    }
   ],
   "source": [
    "s = Optimize()\n",
    "x, y = Ints(\"x y\")\n",
    "s.add_soft(x == 1, weight = 1)\n",
    "s.add_soft(y == 2, weight = 1)\n",
    "s.add_soft(x + y == 3, weight = -1)\n",
    "model = s.check()\n",
    "print(s.model())"
   ]
  },
  {
   "cell_type": "code",
   "execution_count": 23,
   "id": "d508b0c4-f018-44fa-abe3-8f8e7e99ba67",
   "metadata": {},
   "outputs": [],
   "source": [
    "def adjacent(x, y):\n",
    "    if not (isinstance(x, z3.z3.ArithRef) and isinstance(y, z3.z3.ArithRef) and x.is_int() and y.is_int()):\n",
    "        raise TypeError(\"Both inputs must be z3 integer variables\")\n",
    "\n",
    "    return Or(x - y == 1, x - y == -1)\n",
    "\n",
    "def tripleChange(x, y, z):\n",
    "    if not (isinstance(x, z3.z3.ArithRef) and isinstance(y, z3.z3.ArithRef) and isinstance(z, z3.z3.ArithRef) \n",
    "            and x.is_int() and y.is_int() and z.is_int()):\n",
    "        raise TypeError(\"Both inputs must be z3 integer variables\")\n",
    "\n",
    "    return Or(And(adjacent(x, y), adjacent(y, z)), And(adjacent(y, x), adjacent(x, z)), And(adjacent(y, z), adjacent(z, x)))"
   ]
  },
  {
   "cell_type": "markdown",
   "id": "04de4157-5ff4-4917-a6c8-6b8326fd7ecf",
   "metadata": {},
   "source": [
    "TODO:\n",
    "* guarantee blocks are similarly sized\n",
    "* vignettes in order\n",
    "* at most one vignette per block\n",
    "* at most one diddy per block\n",
    "* control first/last overall sketches"
   ]
  },
  {
   "cell_type": "code",
   "execution_count": 24,
   "id": "6007e9ba-5b62-44b8-adb7-90fdfce5417d",
   "metadata": {},
   "outputs": [
    {
     "data": {
      "text/plain": [
       "str"
      ]
     },
     "execution_count": 24,
     "metadata": {},
     "output_type": "execute_result"
    }
   ],
   "source": [
    "type(\"hello\")"
   ]
  },
  {
   "cell_type": "code",
   "execution_count": 26,
   "id": "1d88b163-65f4-430b-8a2d-6c6c0c3d2e9b",
   "metadata": {},
   "outputs": [
    {
     "name": "stdout",
     "output_type": "stream",
     "text": [
      "Alice\n"
     ]
    },
    {
     "ename": "TypeError",
     "evalue": "Actor name must be a string",
     "output_type": "error",
     "traceback": [
      "\u001b[0;31m---------------------------------------------------------------------------\u001b[0m",
      "\u001b[0;31mTypeError\u001b[0m                                 Traceback (most recent call last)",
      "Cell \u001b[0;32mIn[26], line 9\u001b[0m\n\u001b[1;32m      7\u001b[0m alice \u001b[38;5;241m=\u001b[39m Actor(\u001b[38;5;124m\"\u001b[39m\u001b[38;5;124mAlice\u001b[39m\u001b[38;5;124m\"\u001b[39m)\n\u001b[1;32m      8\u001b[0m \u001b[38;5;28mprint\u001b[39m(alice\u001b[38;5;241m.\u001b[39mname)\n\u001b[0;32m----> 9\u001b[0m bob \u001b[38;5;241m=\u001b[39m Actor(\u001b[38;5;241m6\u001b[39m)\n\u001b[1;32m     10\u001b[0m \u001b[38;5;28mprint\u001b[39m(bob\u001b[38;5;241m.\u001b[39mname)\n",
      "Cell \u001b[0;32mIn[26], line 4\u001b[0m, in \u001b[0;36mActor.__init__\u001b[0;34m(self, name)\u001b[0m\n\u001b[1;32m      2\u001b[0m \u001b[38;5;28;01mdef\u001b[39;00m \u001b[38;5;21m__init__\u001b[39m(\u001b[38;5;28mself\u001b[39m, name: \u001b[38;5;28mstr\u001b[39m):\n\u001b[1;32m      3\u001b[0m     \u001b[38;5;28;01mif\u001b[39;00m \u001b[38;5;129;01mnot\u001b[39;00m (\u001b[38;5;28misinstance\u001b[39m(name, \u001b[38;5;28mstr\u001b[39m)):\n\u001b[0;32m----> 4\u001b[0m         \u001b[38;5;28;01mraise\u001b[39;00m \u001b[38;5;167;01mTypeError\u001b[39;00m(\u001b[38;5;124m\"\u001b[39m\u001b[38;5;124mActor name must be a string\u001b[39m\u001b[38;5;124m\"\u001b[39m)\n\u001b[1;32m      5\u001b[0m     \u001b[38;5;28mself\u001b[39m\u001b[38;5;241m.\u001b[39mname \u001b[38;5;241m=\u001b[39m name\n",
      "\u001b[0;31mTypeError\u001b[0m: Actor name must be a string"
     ]
    }
   ],
   "source": [
    "class Actor:\n",
    "    def __init__(self, name: str):\n",
    "        if not (isinstance(name, str)):\n",
    "            raise TypeError(\"Actor name must be a string\")\n",
    "        self.name = name\n",
    "\n",
    "alice = Actor(\"Alice\")\n",
    "print(alice.name)\n",
    "bob = Actor(6)\n",
    "print(bob.name)"
   ]
  },
  {
   "cell_type": "code",
   "execution_count": 86,
   "id": "82b70024-f494-42f5-87c9-482898038f4b",
   "metadata": {},
   "outputs": [],
   "source": [
    "class Sketch:\n",
    "    def __init__(self, name, actors):\n",
    "        if not (isinstance(name, str)):\n",
    "            raise TypeError(\"Sketch name must be a string\")\n",
    "        seen = set([])\n",
    "        if not (isinstance(actors, list)):\n",
    "            raise TypeError(\"The second argument must be a list of actors in the sketch\")\n",
    "        for actor in actors:\n",
    "            if not (isinstance(actor, Actor)):\n",
    "                raise TypeError(\"Every element in list of actors must be of type Actor\")\n",
    "            if actor.name in seen:\n",
    "                raise ValueError(\"Every actor in provided list must have a unique name\")\n",
    "            seen.add(actor.name)\n",
    "            \n",
    "        self.name = name\n",
    "        self.actors = actors\n",
    "\n",
    "class Diddy(Sketch):\n",
    "    def __init__(self, name, actors):\n",
    "        super().__init__(name, actors)\n",
    "\n",
    "class Vignettes(Sketch):\n",
    "    def __init__(self, name, actors):\n",
    "        if not (isinstance(name, str)):\n",
    "            raise TypeError(\"Name of vignettes must be a string\")\n",
    "        if not (isinstance(actors, list)):\n",
    "            raise TypeError(\"The second argument must be a list where each element is a list of actors in a vignette\")\n",
    "        if len(actors) == 0:\n",
    "            raise ValueError(\"Please provide the actors in at least 1 vignette\")\n",
    "        for vignette_actors in actors:\n",
    "            if not (isinstance(vignette_actors, list)):\n",
    "                raise TypeError(\"Every element in the second argument should be a list of actors\")\n",
    "            seen = set([])\n",
    "            for actor in vignette_actors:\n",
    "                if not (isinstance(actor, Actor)):\n",
    "                    raise TypeError(\"Every element in list of actors must be of type Actor\")\n",
    "                if actor.name in seen:\n",
    "                    raise ValueError(\"Every actor in list for given vignette must have a unique name\")\n",
    "                seen.add(actor.name)\n",
    "\n",
    "        self.name = name\n",
    "        self.actors = actors"
   ]
  },
  {
   "cell_type": "code",
   "execution_count": 122,
   "id": "c51e0869-3c25-4c1f-bcd4-2e143d2de1ff",
   "metadata": {},
   "outputs": [],
   "source": [
    "def blockSizing(blocks, vignettes_and_diddies, n_total):\n",
    "    if not (isinstance(n_total, int)):\n",
    "        raise TypeError(\"Last argument must be an integer representing number of sketches (each vignette counted as separate sketch) plus desired number of stage blocks minus 1\")\n",
    "    if n_total < len(blocks) + len(vignettes_and_diddies):\n",
    "        raise ValueError(\"Last argument must be an integer representing number of sketches (each vignette counted as separate sketch) plus desired number of stage blocks minus 1\")\n",
    "    if not(isinstance(blocks, list)):\n",
    "        raise TypeError(\"First argument must be list of z3 int variables corresponding to positions between stage blocks\")\n",
    "    for block in blocks:\n",
    "        if not(isinstance(block, z3.z3.ArithRef) and block.is_int()):\n",
    "            raise TypeError(\"Every element of first argument must be a z3 int variable\")\n",
    "    if not(isinstance(vignettes_and_diddies, list)):\n",
    "        raise TypeError(\"Second argument must be list of z3 int variables corresponding to positions of vignettes and diddies\")\n",
    "    for sketch in vignettes_and_diddies:\n",
    "        if not (isinstance(sketch, z3.z3.ArithRef) and sketch.is_int()):\n",
    "            raise TypeError(\"Every element of second argument must be a z3 int variable\")\n",
    "\n",
    "    blocks.insert(0, 0) \n",
    "    blocks.append(n_total + 1) #adjust list of block positions so length of any stage block will be the difference between 2 list elems\n",
    "\n",
    "    #compute length of each block\n",
    "    block_lengths = []\n",
    "    for block_num in range(1, len(blocks)):\n",
    "        start_pos = blocks[block_num - 1]\n",
    "        end_pos = blocks[block_num]\n",
    "        length = end_pos - start_pos - 1\n",
    "        for short_sketch in vignettes_and_diddies:\n",
    "            length = length - 0.5*And(short_sketch > start_pos, short_sketch < end_pos) #vignettes/diddies count as half a sketch for length purposes\n",
    "        block_lengths.append(length)\n",
    "\n",
    "    #ensure lengths are within 1 of 1 another\n",
    "    length_conditions = []\n",
    "    for i in range(len(block_lengths)):\n",
    "        for j in range(i + 1, len(block_lengths)):\n",
    "            length_conditions.append(block_lengths[i] - block_lengths[j] <= 1)\n",
    "            length_conditions.append(block_lengths[i] - block_lengths[j] >= -1)\n",
    "\n",
    "    return And(length_conditions)"
   ]
  },
  {
   "cell_type": "code",
   "execution_count": 142,
   "id": "93f23391-6fd1-4f77-8a35-c7e83d12605b",
   "metadata": {},
   "outputs": [
    {
     "name": "stdout",
     "output_type": "stream",
     "text": [
      "[b1 = 4,\n",
      " b3 = 12,\n",
      " s7 = 6,\n",
      " s5 = 11,\n",
      " s10 = 3,\n",
      " s9 = 7,\n",
      " s3 = 13,\n",
      " s6 = 10,\n",
      " b2 = 9,\n",
      " s2 = 5,\n",
      " s4 = 14,\n",
      " s1 = 2,\n",
      " s0 = 8,\n",
      " s8 = 1]\n"
     ]
    }
   ],
   "source": [
    "sketches = []\n",
    "for i in range(11):\n",
    "    sketches.append(Int(\"s\" + str(i)))\n",
    "\n",
    "blocks = Ints(\"b1 b2 b3\")\n",
    "s = Solver()\n",
    "all_vars = sketches.copy()\n",
    "all_vars.extend(blocks)\n",
    "for i in range(len(all_vars)):\n",
    "    s.add(all_vars[i] >= 1)\n",
    "    s.add(all_vars[i] <= 14)\n",
    "    for j in range(i + 1, len(all_vars)):\n",
    "        s.add(all_vars[i] != all_vars[j])\n",
    "\n",
    "s.add(b2 <= 14)\n",
    "s.add(blockSizing(blocks, sketches[:3], 14))\n",
    "s.check()\n",
    "print(s.model())"
   ]
  },
  {
   "cell_type": "code",
   "execution_count": null,
   "id": "de64e6e6-2161-4e10-906d-1c10a671277c",
   "metadata": {},
   "outputs": [],
   "source": [
    "def set_subtract(X, Y):\n",
    "    if not(isinstance(X, list) and isinstance(Y, list):\n",
    "        raise TypeError(\"Both inputs must be lists\")\n",
    "    for y in Y:\n",
    "        if not (y in X):\n",
    "            raise ValueError(\"Second argument must be completely contained within first\")\n",
    "\n",
    "    return_list = []\n",
    "    for x in X:\n",
    "        if not (x in Y):\n",
    "            return_list.append(x)\n",
    "\n",
    "    return return_list\n",
    "    \n",
    "\n",
    "#given list of elements, return all k-element subsets\n",
    "def choose_k(elems, k):\n",
    "    if not (isinstance(k, int)):\n",
    "        raise TypeError(\"Second argument must be an integer\")\n",
    "    if k < 0 or k > len(elems):\n",
    "        raise ValueError(\"Second must be a positive integer and at most the length of the first input\")\n",
    "    if not (isinstance(elems, list)):\n",
    "        raise TypeError(\"First argument must be a list\")\n",
    "    subsets = []\n",
    "    for _ in range(k + 1):\n",
    "        new_subsets = []\n",
    "        for subset in subsets:\n",
    "            for new_elem in set_subtract(elems, subset):\n",
    "                new_subset = subset.copy()\n",
    "                new_subset.append(new_elem)\n",
    "                new_subsets.append(new_subset)\n",
    "        "
   ]
  },
  {
   "cell_type": "code",
   "execution_count": 6,
   "id": "fee7a74d-b3b6-46e6-af3a-ee5f39ee91e0",
   "metadata": {},
   "outputs": [
    {
     "name": "stdout",
     "output_type": "stream",
     "text": [
      "(5, 2, 4)\n",
      "(5, 2, 3)\n",
      "(5, 2, 1)\n",
      "(5, 4, 3)\n",
      "(5, 4, 1)\n",
      "(5, 3, 1)\n",
      "(2, 4, 3)\n",
      "(2, 4, 1)\n",
      "(2, 3, 1)\n",
      "(4, 3, 1)\n"
     ]
    }
   ],
   "source": [
    "import itertools\n",
    "for i in itertools.combinations([5, 2, 4, 3,1], 3):\n",
    "    print(i)"
   ]
  },
  {
   "cell_type": "code",
   "execution_count": 7,
   "id": "256157a2-ab79-4ef3-93f0-302198956ddb",
   "metadata": {},
   "outputs": [
    {
     "data": {
      "text/plain": [
       "2"
      ]
     },
     "execution_count": 7,
     "metadata": {},
     "output_type": "execute_result"
    }
   ],
   "source": [
    "True + True"
   ]
  },
  {
   "cell_type": "code",
   "execution_count": 13,
   "id": "91ae6edf-4849-4a53-a786-258e62a91e16",
   "metadata": {},
   "outputs": [
    {
     "name": "stdout",
     "output_type": "stream",
     "text": [
      "[a = False, b = True, c = True]\n"
     ]
    }
   ],
   "source": [
    "a, b, c = Bools(\"a b c\")\n",
    "s = Optimize()\n",
    "s.add(Sum([a, b, c]) <= 2)\n",
    "s.add_soft(a)\n",
    "s.add_soft(b)\n",
    "s.add_soft(c, weight = 2)\n",
    "s.check()\n",
    "print(s.model())"
   ]
  },
  {
   "cell_type": "code",
   "execution_count": 7,
   "id": "05415046-b77f-46e2-bca0-1a7085ac6340",
   "metadata": {},
   "outputs": [
    {
     "name": "stdout",
     "output_type": "stream",
     "text": [
      "[f = False,\n",
      " b = False,\n",
      " a = True,\n",
      " c = False,\n",
      " d = False,\n",
      " e = False,\n",
      " g = False]\n"
     ]
    }
   ],
   "source": [
    "lotsOfBools = Bools(\"a b c d e f g\")\n",
    "s = Solver()\n",
    "for i in range(len(lotsOfBools)):\n",
    "    s.add(Implies(lotsOfBools[i], Not(Or(Or(lotsOfBools[:i]), Or(lotsOfBools[i+1:])))))\n",
    "s.add(lotsOfBools[0])\n",
    "s.check()\n",
    "print(s.model())"
   ]
  },
  {
   "cell_type": "code",
   "execution_count": null,
   "id": "510b716e-c5d5-40c6-9a34-817179a926d1",
   "metadata": {},
   "outputs": [],
   "source": []
  }
 ],
 "metadata": {
  "kernelspec": {
   "display_name": "CMSC433",
   "language": "python",
   "name": "cmsc433"
  },
  "language_info": {
   "codemirror_mode": {
    "name": "ipython",
    "version": 3
   },
   "file_extension": ".py",
   "mimetype": "text/x-python",
   "name": "python",
   "nbconvert_exporter": "python",
   "pygments_lexer": "ipython3",
   "version": "3.12.7"
  }
 },
 "nbformat": 4,
 "nbformat_minor": 5
}
